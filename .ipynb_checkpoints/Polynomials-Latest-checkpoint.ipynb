{
 "cells": [
  {
   "cell_type": "markdown",
   "metadata": {},
   "source": [
    "[13-3-2019] 20:47- The below definition has a bug- when it compares two \"signatures\" it will treat identical signatures with different number of trailing zeroes as different. Maybe just change \"eq()\" defn above.\n",
    "[17-3-2019] 19:14- Already done below, forgot to write that down."
   ]
  },
  {
   "cell_type": "code",
   "execution_count": 135,
   "metadata": {},
   "outputs": [],
   "source": [
    "def eq( L1, L2 ):\n",
    "    e= 1\n",
    "    \n",
    "    if max( len(L1), len(L2) ) is len(L1):\n",
    "        M= L1\n",
    "        m= L2\n",
    "    else:\n",
    "        M= L2\n",
    "        m= L1\n",
    "    \n",
    "    #Padding:\n",
    "    for i in range( len(M) ):\n",
    "        if i >= len(m):\n",
    "            m.append(0)\n",
    "    #Comparing:\n",
    "    for i in range( len(L1) ):\n",
    "        if L1[i] is not L2[i]:\n",
    "            e= 0\n",
    "    \n",
    "    return e"
   ]
  },
  {
   "cell_type": "code",
   "execution_count": 136,
   "metadata": {},
   "outputs": [
    {
     "data": {
      "text/plain": [
       "1"
      ]
     },
     "execution_count": 136,
     "metadata": {},
     "output_type": "execute_result"
    }
   ],
   "source": [
    "eq( [1,2,1] , [1,2,1,0,0] )"
   ]
  },
  {
   "cell_type": "code",
   "execution_count": 233,
   "metadata": {},
   "outputs": [],
   "source": [
    "def trim(m_):\n",
    "    m=m_\n",
    "    if len(m[1]) >= 1:\n",
    "        i= len(m[1]) - 1\n",
    "        while m[1][i] is 0 and i is not 0:\n",
    "            del m[1][i]\n",
    "            i= i - 1\n",
    "            \n",
    "    if m[0] is 0 or m[0] is 0.0:\n",
    "        m= [0,[0]]\n",
    "        \n",
    "    return m"
   ]
  },
  {
   "cell_type": "code",
   "execution_count": 234,
   "metadata": {},
   "outputs": [
    {
     "data": {
      "text/plain": [
       "[1, [1, 2, 0, 2]]"
      ]
     },
     "execution_count": 234,
     "metadata": {},
     "output_type": "execute_result"
    }
   ],
   "source": [
    "trim([1,[1,2,0,2,0,0,0,0,0,0,0]])"
   ]
  },
  {
   "cell_type": "code",
   "execution_count": 235,
   "metadata": {},
   "outputs": [],
   "source": [
    "def sum( P, Q ):\n",
    "    Q_= Q\n",
    "    for p in P:\n",
    "        f= 0\n",
    "        for q in Q_:\n",
    "            if eq(p[1],q[1]) is 1:\n",
    "                q[0]= q[0] + p[0]\n",
    "                f= 1\n",
    "        \n",
    "        if f is 0:\n",
    "            Q_.append(p)\n",
    "        \n",
    "        #Trimming\n",
    "        for q_ in Q_:\n",
    "            q_= trim(q_)\n",
    "            \n",
    "    return Q_"
   ]
  },
  {
   "cell_type": "code",
   "execution_count": 236,
   "metadata": {},
   "outputs": [],
   "source": [
    "P= [ [1.1 , [1,2]] , [1.2 , [2,2]] , [9.9 , [1,0,1,0,0,0]] ]\n",
    "Q= [ [2.1 , [2,2]] , [1.2 , [1,2]] , [9.9 , [9,9]] , [1.0 , [1,0,1]] ]"
   ]
  },
  {
   "cell_type": "code",
   "execution_count": 237,
   "metadata": {},
   "outputs": [
    {
     "data": {
      "text/plain": [
       "[[3.3, [2, 2]], [2.3, [1, 2]], [9.9, [9, 9]], [10.9, [1, 0, 1]]]"
      ]
     },
     "execution_count": 237,
     "metadata": {},
     "output_type": "execute_result"
    }
   ],
   "source": [
    "sum(P,Q)"
   ]
  },
  {
   "cell_type": "code",
   "execution_count": 238,
   "metadata": {},
   "outputs": [],
   "source": [
    "def bitvor( L1, L2 ):\n",
    "    Res= []\n",
    "    if max( len(L1), len(L2) ) is len(L1):\n",
    "        M= L1\n",
    "        m= L2\n",
    "    else:\n",
    "        M= L2\n",
    "        m= L1\n",
    "    \n",
    "    for i in range( len(M) ):\n",
    "        if i < len(m):\n",
    "            Res.append( m[i] + M[i] )\n",
    "        else:\n",
    "            Res.append(M[i])\n",
    "    \n",
    "    return Res"
   ]
  },
  {
   "cell_type": "code",
   "execution_count": 239,
   "metadata": {},
   "outputs": [
    {
     "data": {
      "text/plain": [
       "[2, 3, 4, 3, 2, 3, 2, 1]"
      ]
     },
     "execution_count": 239,
     "metadata": {},
     "output_type": "execute_result"
    }
   ],
   "source": [
    "bitvor([1,2,3,2],[1,1,1,1,2,3,2,1])"
   ]
  },
  {
   "cell_type": "code",
   "execution_count": 240,
   "metadata": {},
   "outputs": [
    {
     "data": {
      "text/plain": [
       "[1, [1, 2]]"
      ]
     },
     "execution_count": 240,
     "metadata": {},
     "output_type": "execute_result"
    }
   ],
   "source": [
    "sum( [] , [1 , [1,2]] )"
   ]
  },
  {
   "cell_type": "code",
   "execution_count": 241,
   "metadata": {},
   "outputs": [],
   "source": [
    "def prod( P, Q ):\n",
    "    Res= []\n",
    "    \n",
    "    for p in P:\n",
    "        for q in Q:\n",
    "            mprod= []\n",
    "            mprod.append( p[0]*q[0] )\n",
    "            mprod.append( bitvor( p[1], q[1] ) )\n",
    "            MP= []\n",
    "            MP.append(mprod)\n",
    "            Res= sum( Res, MP )\n",
    "            \n",
    "    #Trimming:\n",
    "    for r in Res:\n",
    "        r= trim(r)\n",
    "    \n",
    "    return Res"
   ]
  },
  {
   "cell_type": "code",
   "execution_count": 242,
   "metadata": {},
   "outputs": [
    {
     "data": {
      "text/plain": [
       "[[107.91000000000001, [2, 0, 2]],\n",
       " [98.01, [10, 9, 1]],\n",
       " [34.760000000000005, [2, 2, 1]],\n",
       " [45.75, [3, 2, 1]],\n",
       " [11.88, [11, 11]],\n",
       " [6.39, [3, 4]],\n",
       " [3.9599999999999995, [4, 4]],\n",
       " [10.89, [10, 11]],\n",
       " [2.53, [2, 4]]]"
      ]
     },
     "execution_count": 242,
     "metadata": {},
     "output_type": "execute_result"
    }
   ],
   "source": [
    "prod(P,Q)"
   ]
  },
  {
   "cell_type": "code",
   "execution_count": 243,
   "metadata": {},
   "outputs": [],
   "source": [
    "P= [ [1 , [1]] , [1 , [0]] ]\n",
    "Q= [ [1 , [2,1]] , [1 , [0]] ]"
   ]
  },
  {
   "cell_type": "code",
   "execution_count": 244,
   "metadata": {},
   "outputs": [],
   "source": [
    "def sub( P_, i, x ):\n",
    "    S= []\n",
    "    P=P_\n",
    "    for p_ in P:\n",
    "        p= p_\n",
    "        r= []\n",
    "        r.append(p)\n",
    "        if len( p[1] ) > i:\n",
    "            p[0]= p[0]*( x**p[1][i] )\n",
    "            p[1][i]= 0\n",
    "            \n",
    "            S= sum( S, r )\n",
    "        else:\n",
    "            S= sum( S, r )\n",
    "            \n",
    "    \n",
    "    #Trimming:\n",
    "    for s in S:\n",
    "        s= trim(s)\n",
    "    \n",
    "    return S"
   ]
  },
  {
   "cell_type": "code",
   "execution_count": 245,
   "metadata": {},
   "outputs": [
    {
     "data": {
      "text/plain": [
       "[[1, [0]], [1.5, [2]]]"
      ]
     },
     "execution_count": 245,
     "metadata": {},
     "output_type": "execute_result"
    }
   ],
   "source": [
    "sub(Q,1,1.5)"
   ]
  },
  {
   "cell_type": "code",
   "execution_count": 246,
   "metadata": {},
   "outputs": [],
   "source": [
    "def diff( P, i ):\n",
    "    P_= P\n",
    "    \n",
    "    for p in P_:\n",
    "        if i >= len(p[1]):\n",
    "            p[0]= 0\n",
    "            p[1]= [0]\n",
    "        elif p[1][i] is not 0:\n",
    "                p[0]= p[0]*p[1][i]\n",
    "                p[1][i]= p[1][i] - 1\n",
    "        else:\n",
    "            p[0]= 0\n",
    "            \n",
    "    for p_ in P_:\n",
    "        p_= trim(p_)\n",
    "    \n",
    "    return P_"
   ]
  },
  {
   "cell_type": "code",
   "execution_count": 247,
   "metadata": {},
   "outputs": [],
   "source": [
    "R= [ [2 , [2,1]] , [3 , [1,2]] ]"
   ]
  },
  {
   "cell_type": "code",
   "execution_count": 248,
   "metadata": {},
   "outputs": [
    {
     "data": {
      "text/plain": [
       "[[4, [1, 1]], [3, [0, 2]]]"
      ]
     },
     "execution_count": 248,
     "metadata": {},
     "output_type": "execute_result"
    }
   ],
   "source": [
    "diff(R,0)"
   ]
  },
  {
   "cell_type": "code",
   "execution_count": 249,
   "metadata": {},
   "outputs": [],
   "source": [
    "def pw( P, n ):\n",
    "    Res= P\n",
    "    \n",
    "    if n is 0:\n",
    "        return [[1,[0]]]\n",
    "    if n >=1:\n",
    "        for i in range(n-1):\n",
    "            Res= prod( Res, P )\n",
    "    \n",
    "    for r in Res:\n",
    "        r= trim(r)\n",
    "    \n",
    "    return Res"
   ]
  },
  {
   "cell_type": "code",
   "execution_count": 250,
   "metadata": {},
   "outputs": [
    {
     "data": {
      "text/plain": [
       "[[3, [2]], [1, [3]], [3, [1]], [1, [0]]]"
      ]
     },
     "execution_count": 250,
     "metadata": {},
     "output_type": "execute_result"
    }
   ],
   "source": [
    "pw( [[1 , [1]] , [1 , [0]] ] , 3 )"
   ]
  },
  {
   "cell_type": "code",
   "execution_count": 251,
   "metadata": {},
   "outputs": [
    {
     "data": {
      "text/plain": [
       "[[1, [0]]]"
      ]
     },
     "execution_count": 251,
     "metadata": {},
     "output_type": "execute_result"
    }
   ],
   "source": [
    "pw( [[1 , [1]] , [1 , [0]] ] , 0 )"
   ]
  },
  {
   "cell_type": "markdown",
   "metadata": {},
   "source": [
    "Since I don't have time to fix the power zero problem, I'll just add the zero special case above."
   ]
  },
  {
   "cell_type": "code",
   "execution_count": 252,
   "metadata": {},
   "outputs": [],
   "source": [
    "#Find V in terms of t, a[i], beta\n",
    "\n",
    "def vcomp( V, x ):\n",
    "    #x0= x, x1= t, x2= beta, xi= ai for i >2\n",
    "    V_= V\n",
    "    x_= x\n",
    "    \n",
    "    M= []\n",
    "    \n",
    "    for v in V_:\n",
    "        v_= v\n",
    "        m= pw( x_, v_[1][0] )\n",
    "        v_[1][0]= 0\n",
    "        \n",
    "        vl=[]\n",
    "        vl.append(v_)\n",
    "        m= prod( m, vl )\n",
    "        \n",
    "        M= sum( M, m )\n",
    "    \n",
    "    return M"
   ]
  },
  {
   "cell_type": "code",
   "execution_count": 253,
   "metadata": {},
   "outputs": [],
   "source": [
    "vsmp= [ [1 , [1,0,1]] , [2 , [2,0]] ]\n",
    "xsmp= [ [1 , [0,0,0]] , [1 , [0,1,0,1]] , [1 , [0,2,0,0,1]] , [1 , [0,3,0,0,0,1]] ]"
   ]
  },
  {
   "cell_type": "code",
   "execution_count": 254,
   "metadata": {},
   "outputs": [
    {
     "data": {
      "text/plain": [
       "[[2, [0]],\n",
       " [4, [0, 1, 0, 1]],\n",
       " [2, [0, 2, 0, 2]],\n",
       " [4, [0, 2, 0, 0, 1]],\n",
       " [4, [0, 3, 0, 1, 1]],\n",
       " [2, [0, 4, 0, 0, 2]],\n",
       " [4, [0, 3, 0, 0, 0, 1]],\n",
       " [4, [0, 4, 0, 1, 0, 1]],\n",
       " [4, [0, 5, 0, 0, 1, 1]],\n",
       " [2, [0, 6, 0, 0, 0, 2]],\n",
       " [1, [0, 3, 1, 0, 0, 1]],\n",
       " [1, [0, 2, 1, 0, 1]],\n",
       " [1, [0, 1, 1, 1]],\n",
       " [1, [0, 0, 1]]]"
      ]
     },
     "execution_count": 254,
     "metadata": {},
     "output_type": "execute_result"
    }
   ],
   "source": [
    "vcomp(vsmp,xsmp)"
   ]
  },
  {
   "cell_type": "code",
   "execution_count": 255,
   "metadata": {},
   "outputs": [],
   "source": [
    "def print_rec_rel( V, x ):\n",
    "    \n",
    "    V_= diff( V, 0 )\n",
    "    x= diff( diff(x,1), 1 )\n",
    "    V_= vcomp(V_,x)\n",
    "    \n",
    "    \n",
    "    for i in range(10):\n",
    "        res= []\n",
    "        tmp= []\n",
    "        tmp= [c for c in V if c[1][1] is i]\n",
    "        res= sum( res, tmp )\n",
    "        print(res)"
   ]
  },
  {
   "cell_type": "code",
   "execution_count": 256,
   "metadata": {},
   "outputs": [
    {
     "ename": "IndexError",
     "evalue": "list index out of range",
     "output_type": "error",
     "traceback": [
      "\u001b[0;31m---------------------------------------------------------------------------\u001b[0m",
      "\u001b[0;31mIndexError\u001b[0m                                Traceback (most recent call last)",
      "\u001b[0;32m<ipython-input-256-a04702cd0158>\u001b[0m in \u001b[0;36m<module>\u001b[0;34m()\u001b[0m\n\u001b[0;32m----> 1\u001b[0;31m \u001b[0mprint_rec_rel\u001b[0m\u001b[0;34m(\u001b[0m \u001b[0mvsmp\u001b[0m\u001b[0;34m,\u001b[0m \u001b[0mxsmp\u001b[0m \u001b[0;34m)\u001b[0m\u001b[0;34m\u001b[0m\u001b[0m\n\u001b[0m",
      "\u001b[0;32m<ipython-input-255-de258aac60f4>\u001b[0m in \u001b[0;36mprint_rec_rel\u001b[0;34m(V, x)\u001b[0m\n\u001b[1;32m      9\u001b[0m         \u001b[0mres\u001b[0m\u001b[0;34m=\u001b[0m \u001b[0;34m[\u001b[0m\u001b[0;34m]\u001b[0m\u001b[0;34m\u001b[0m\u001b[0m\n\u001b[1;32m     10\u001b[0m         \u001b[0mtmp\u001b[0m\u001b[0;34m=\u001b[0m \u001b[0;34m[\u001b[0m\u001b[0;34m]\u001b[0m\u001b[0;34m\u001b[0m\u001b[0m\n\u001b[0;32m---> 11\u001b[0;31m         \u001b[0mtmp\u001b[0m\u001b[0;34m=\u001b[0m \u001b[0;34m[\u001b[0m\u001b[0mc\u001b[0m \u001b[0;32mfor\u001b[0m \u001b[0mc\u001b[0m \u001b[0;32min\u001b[0m \u001b[0mV\u001b[0m \u001b[0;32mif\u001b[0m \u001b[0mc\u001b[0m\u001b[0;34m[\u001b[0m\u001b[0;36m1\u001b[0m\u001b[0;34m]\u001b[0m\u001b[0;34m[\u001b[0m\u001b[0;36m1\u001b[0m\u001b[0;34m]\u001b[0m \u001b[0;32mis\u001b[0m \u001b[0mi\u001b[0m\u001b[0;34m]\u001b[0m\u001b[0;34m\u001b[0m\u001b[0m\n\u001b[0m\u001b[1;32m     12\u001b[0m         \u001b[0mres\u001b[0m\u001b[0;34m=\u001b[0m \u001b[0msum\u001b[0m\u001b[0;34m(\u001b[0m \u001b[0mres\u001b[0m\u001b[0;34m,\u001b[0m \u001b[0mtmp\u001b[0m \u001b[0;34m)\u001b[0m\u001b[0;34m\u001b[0m\u001b[0m\n\u001b[1;32m     13\u001b[0m         \u001b[0;32mprint\u001b[0m\u001b[0;34m(\u001b[0m\u001b[0mres\u001b[0m\u001b[0;34m)\u001b[0m\u001b[0;34m\u001b[0m\u001b[0m\n",
      "\u001b[0;31mIndexError\u001b[0m: list index out of range"
     ]
    }
   ],
   "source": [
    "print_rec_rel( vsmp, xsmp )"
   ]
  },
  {
   "cell_type": "code",
   "execution_count": 257,
   "metadata": {},
   "outputs": [],
   "source": [
    "def compose( P, i ,Q ):\n",
    "    #Make copies so as not to disturb the original parameters\n",
    "    P_= P\n",
    "    Q_= Q\n",
    "    \n",
    "    #Initilise sum\n",
    "    S= []\n",
    "    \n",
    "    for p in P_:\n",
    "        q1=[]\n",
    "        q2=p\n",
    "        q= [] #Will hold the temporary result of substitution of Q in place of -{x_{i}_}- in one monomial of P\n",
    "        q= pw( Q_, p[1][i] )\n",
    "        q2[1][i]= 0\n",
    "        \n",
    "        r= []\n",
    "        r.append(q2)\n",
    "        q1= prod(q,r)\n",
    "        \n",
    "        S= sum(S,q1)\n",
    "        \n",
    "    for s in S:\n",
    "        s= trim(s)\n",
    "        \n",
    "    return S"
   ]
  },
  {
   "cell_type": "code",
   "execution_count": 258,
   "metadata": {},
   "outputs": [],
   "source": [
    "P= [[1 , [1,1]] , [2 , [0,2]]]\n",
    "Q= [[1 , [0,0,1]],[1,[1,0,0]]]"
   ]
  },
  {
   "cell_type": "code",
   "execution_count": 259,
   "metadata": {},
   "outputs": [
    {
     "data": {
      "text/plain": [
       "[[2, [0, 2]], [1, [1, 1]], [1, [0, 1, 1]]]"
      ]
     },
     "execution_count": 259,
     "metadata": {},
     "output_type": "execute_result"
    }
   ],
   "source": [
    "compose( P, 0, Q )"
   ]
  },
  {
   "cell_type": "code",
   "execution_count": 260,
   "metadata": {},
   "outputs": [],
   "source": [
    "no_of_coordinates= 3\n",
    "no_controls= 1\n",
    "prec= 4 #No of terms in time series\n",
    "\n",
    "CF= [None]*no_of_coordinates*prec"
   ]
  },
  {
   "cell_type": "code",
   "execution_count": 261,
   "metadata": {},
   "outputs": [],
   "source": [
    "#1.#ABANDONED\n",
    "#Initialise -{B_{ij}_}- 's\n",
    "\n",
    "def Bij_pow( i, j ):\n",
    "    L= []\n",
    "    pos= i*no_of_coordinates + j + no_of_coordinates + no_controls\n",
    "    for i in range(pos+1):\n",
    "        L.append(0)\n",
    "    L.append(1)\n",
    "    return L\n",
    "\n",
    "def init_Bij():\n",
    "    for i in range(no_of_coordinates):\n",
    "        for j in range(prec):\n",
    "            cf= []\n",
    "            cf.append(1)\n",
    "            cf.append(Bij_pow(i,j))\n",
    "            CF.append(cf)"
   ]
  },
  {
   "cell_type": "code",
   "execution_count": 262,
   "metadata": {},
   "outputs": [],
   "source": [
    "init_Bij()"
   ]
  },
  {
   "cell_type": "code",
   "execution_count": 263,
   "metadata": {},
   "outputs": [
    {
     "data": {
      "text/plain": [
       "[None,\n",
       " None,\n",
       " None,\n",
       " None,\n",
       " None,\n",
       " None,\n",
       " None,\n",
       " None,\n",
       " None,\n",
       " None,\n",
       " None,\n",
       " None,\n",
       " [1, [0, 0, 0, 0, 0, 1]],\n",
       " [1, [0, 0, 0, 0, 0, 0, 1]],\n",
       " [1, [0, 0, 0, 0, 0, 0, 0, 1]],\n",
       " [1, [0, 0, 0, 0, 0, 0, 0, 0, 1]],\n",
       " [1, [0, 0, 0, 0, 0, 0, 0, 0, 1]],\n",
       " [1, [0, 0, 0, 0, 0, 0, 0, 0, 0, 1]],\n",
       " [1, [0, 0, 0, 0, 0, 0, 0, 0, 0, 0, 1]],\n",
       " [1, [0, 0, 0, 0, 0, 0, 0, 0, 0, 0, 0, 1]],\n",
       " [1, [0, 0, 0, 0, 0, 0, 0, 0, 0, 0, 0, 1]],\n",
       " [1, [0, 0, 0, 0, 0, 0, 0, 0, 0, 0, 0, 0, 1]],\n",
       " [1, [0, 0, 0, 0, 0, 0, 0, 0, 0, 0, 0, 0, 0, 1]],\n",
       " [1, [0, 0, 0, 0, 0, 0, 0, 0, 0, 0, 0, 0, 0, 0, 1]]]"
      ]
     },
     "execution_count": 263,
     "metadata": {},
     "output_type": "execute_result"
    }
   ],
   "source": [
    "CF"
   ]
  },
  {
   "cell_type": "markdown",
   "metadata": {},
   "source": [
    "Trying again."
   ]
  },
  {
   "cell_type": "code",
   "execution_count": 264,
   "metadata": {},
   "outputs": [],
   "source": [
    "#Modified version of B[i][j] with arbitrary initial conditions\n",
    "#1 a\n",
    "# Bij's are polynomials. Each of them has the form 1xBij= 1x-{x}-indexed by no_of_coordinates+no_controls+i*no_of_coordinates+j\n",
    "def B( i, j ):\n",
    "    pos= no_of_coordinates + no_controls + 1 + i*prec + j\n",
    "    c= [1]\n",
    "    d= []\n",
    "\n",
    "    \n",
    "    \n",
    "    \n",
    "    #Add initial values of Bi0 and Bi1 with if statements\n",
    "    for i in range(pos):\n",
    "        d.append(0)\n",
    "    d.append(1)\n",
    "    c.append(d)\n",
    "    \n",
    "    C=[]\n",
    "    C.append(c)\n",
    "    \n",
    "    for c in C:\n",
    "        c= trim(c)\n",
    "\n",
    "    return C"
   ]
  },
  {
   "cell_type": "code",
   "execution_count": 265,
   "metadata": {},
   "outputs": [
    {
     "name": "stdout",
     "output_type": "stream",
     "text": [
      "[[1, [0, 0, 0, 0, 0, 0, 0, 0, 0, 0, 1]]]\n",
      "[[1, [0, 0, 0, 0, 0, 0, 0, 0, 0, 0, 0, 1]]]\n"
     ]
    }
   ],
   "source": [
    "print(B(1,1))\n",
    "print(B(1,2))"
   ]
  },
  {
   "cell_type": "code",
   "execution_count": 266,
   "metadata": {},
   "outputs": [],
   "source": [
    "M=[]\n",
    "for i in range(no_of_coordinates):\n",
    "    m=[]\n",
    "    for j in range(prec):\n",
    "        m.append(B(i,j))\n",
    "    M.append(m)\n",
    "    "
   ]
  },
  {
   "cell_type": "code",
   "execution_count": 267,
   "metadata": {},
   "outputs": [
    {
     "name": "stdout",
     "output_type": "stream",
     "text": [
      "[[1, [0, 0, 0, 0, 0, 0, 0, 0, 0, 0, 0, 1]]]\n",
      "[[1, [0, 0, 0, 0, 0, 0, 0, 0, 0, 0, 0, 1]]]\n"
     ]
    }
   ],
   "source": [
    "print(M[1][2])\n",
    "print(B(1,2))"
   ]
  },
  {
   "cell_type": "code",
   "execution_count": 268,
   "metadata": {},
   "outputs": [],
   "source": [
    "#initial conditions\n",
    "for i in range(no_of_coordinates):\n",
    "    for j in range(prec):\n",
    "        if j is 0 or j is 1:\n",
    "            M[i][j]=[[0.5,[0]]]\n"
   ]
  },
  {
   "cell_type": "code",
   "execution_count": 269,
   "metadata": {},
   "outputs": [],
   "source": [
    "#3\n",
    "#initializing x for all coordinates as time series \n",
    "\n",
    "def fact(n):\n",
    "    if n is 1 or 0:\n",
    "        return 1\n",
    "    elif n>1:\n",
    "        return n*fact(n-1)\n",
    "    return 1\n",
    "    \n",
    "def X(i):\n",
    "    j=0\n",
    "    S=[]\n",
    "    \n",
    "    \n",
    "    for j in range(prec):\n",
    "        #defining t^j\n",
    "        \n",
    "        Tj=[fact(j)**-1,[0,0]]\n",
    "        for k in range(no_of_coordinates-1):\n",
    "            Tj[1].append(0)\n",
    "        Tj[1].append(j)\n",
    "        #print(Tj)\n",
    "        T=[]\n",
    "        T.append(Tj)\n",
    "        mono=prod(M[i][j],T)\n",
    "        \n",
    "        S=sum(S,mono)\n",
    "        \n",
    "        \n",
    "    for s in S:\n",
    "        s= trim(s)\n",
    "        \n",
    "        \n",
    "    return S\n"
   ]
  },
  {
   "cell_type": "code",
   "execution_count": 270,
   "metadata": {},
   "outputs": [
    {
     "name": "stdout",
     "output_type": "stream",
     "text": [
      "[[0.16666666666666666, [0, 0, 0, 0, 3, 0, 0, 0, 0, 0, 0, 0, 0, 0, 0, 0, 1]], [0.5, [0, 0, 0, 0, 2, 0, 0, 0, 0, 0, 0, 0, 0, 0, 0, 1]], [0.5, [0, 0, 0, 0, 1]], [0.5, [0]]]\n"
     ]
    }
   ],
   "source": [
    "print(X(2))"
   ]
  },
  {
   "cell_type": "code",
   "execution_count": 271,
   "metadata": {},
   "outputs": [],
   "source": [
    "def sub_all_co( V ):\n",
    "    V_= V\n",
    "    for i in range(no_of_coordinates):\n",
    "        V_= compose( V_, i, X(i) )\n",
    "    \n",
    "    return V_"
   ]
  },
  {
   "cell_type": "code",
   "execution_count": 272,
   "metadata": {},
   "outputs": [],
   "source": [
    "def DV_t( V, i ):\n",
    "    V_= diff( V, i )\n",
    "    \n",
    "    return sub_all_co( V_ )"
   ]
  },
  {
   "cell_type": "code",
   "execution_count": 273,
   "metadata": {},
   "outputs": [],
   "source": [
    "pot= [ [1 , [1,1,2]] , [2, [2,2,3]] ]"
   ]
  },
  {
   "cell_type": "code",
   "execution_count": 274,
   "metadata": {},
   "outputs": [
    {
     "name": "stdout",
     "output_type": "stream",
     "text": [
      "[[0.5, [0, 1, 2]], [0.5, [0, 2, 3]]]\n"
     ]
    }
   ],
   "source": [
    "#Finding B_i2, for example:\n",
    "V_= pot\n",
    "\n",
    "i= 0\n",
    "V_= compose( V_, i, X(i) )\n",
    "V_= sub( V_, no_of_coordinates + no_controls, 0 )\n",
    "\n",
    "for v_ in V_:\n",
    "    v_= trim(v_)\n",
    "\n",
    "#The 0-coefficient part of trim() is not working\n",
    "V_= [v_ for v_ in V_ if v_[0]]\n",
    "V_= [v_ for v_ in V_ if v_[0] is not 0.0]\n",
    "\n",
    "print(V_)"
   ]
  },
  {
   "cell_type": "code",
   "execution_count": 275,
   "metadata": {},
   "outputs": [
    {
     "name": "stdout",
     "output_type": "stream",
     "text": [
      "[[0.25, [0, 0, 2]], [0.125, [0, 0, 3]]]\n"
     ]
    }
   ],
   "source": [
    "i= 1\n",
    "V_= compose( V_, i, X(i) )\n",
    "V_= sub( V_, no_of_coordinates + no_controls, 0 )\n",
    "\n",
    "for v_ in V_:\n",
    "    v_= trim(v_)\n",
    "    \n",
    "#The 0-coefficient part of trim() is not working\n",
    "V_= [v_ for v_ in V_ if v_[0]]\n",
    "V_= [v_ for v_ in V_ if v_[0] is not 0.0]\n",
    "\n",
    "print(V_)"
   ]
  },
  {
   "cell_type": "code",
   "execution_count": 276,
   "metadata": {},
   "outputs": [
    {
     "name": "stdout",
     "output_type": "stream",
     "text": [
      "[[0.078125, [0]]]\n"
     ]
    }
   ],
   "source": [
    "i= 2\n",
    "V_= compose( V_, i, X(i) )\n",
    "V_= sub( V_, no_of_coordinates + no_controls, 0 )\n",
    "\n",
    "for v_ in V_:\n",
    "    v_= trim(v_)\n",
    "    \n",
    "#The 0-coefficient part of trim() is not working\n",
    "V_= [v_ for v_ in V_ if v_[0]]\n",
    "V_= [v_ for v_ in V_ if v_[0] is not 0.0]\n",
    "\n",
    "print(V_)"
   ]
  },
  {
   "cell_type": "code",
   "execution_count": 277,
   "metadata": {},
   "outputs": [],
   "source": [
    "#This is the potential for the tuning example of a tank circuit. \n",
    "#Formula  \\sum_{i=0}^{\\infty }(\\frac{t^{2i+1}}{fact(2i+1)}-q\\beta^{i})(-1)^{i}\n",
    "#note: changing driving signal from sin(t) to sin(t)-t because we want to remove 0th and first power terms from taylor series.\n",
    "#integrate above potential (#Formula  \\sum_{i=0}^{\\infty }(\\frac{t^{2i+1}}{fact(2i+1)}-q\\beta^{i})(-1)^{i}) w.r.t q\n",
    "#to get the classical potential\n",
    "#After that differentiate with respect to q.\n",
    "\n",
    "S=[]\n",
    "for i in range(10):\n",
    "    S=sum(S, [[(-1**i)*((fact(2*i+1))**-1), [1,0,0,0,2*i +1]]])\n",
    "    S=sum(S, [[-0.5*(-1**i), [2,0,0,i]]])\n",
    "S=sum(S,[[-1,[1,0,0,0,1]]])\n",
    "S=sum(S,[[-1,[0]]])\n",
    "VP=S\n",
    "VP= trim(VP)\n",
    "VP= [v_ for v_ in VP if v_[0] is not 0.0]\n",
    "\n",
    "\n"
   ]
  },
  {
   "cell_type": "code",
   "execution_count": 278,
   "metadata": {},
   "outputs": [
    {
     "name": "stdout",
     "output_type": "stream",
     "text": [
      "[[-1, [0]], [-2.0, [1, 0, 0, 0, 1]], [0.5, [2, 0, 0, 9]], [-8.22063524662433e-18, [1, 0, 0, 0, 19]], [0.5, [2, 0, 0, 8]], [-2.8114572543455206e-15, [1, 0, 0, 0, 17]], [0.5, [2, 0, 0, 7]], [-7.647163731819816e-13, [1, 0, 0, 0, 15]], [0.5, [2, 0, 0, 6]], [-1.6059043836821613e-10, [1, 0, 0, 0, 13]], [0.5, [2, 0, 0, 5]], [-2.505210838544172e-08, [1, 0, 0, 0, 11]], [0.5, [2, 0, 0, 4]], [-2.7557319223985893e-06, [1, 0, 0, 0, 9]], [0.5, [2, 0, 0, 3]], [-0.0001984126984126984, [1, 0, 0, 0, 7]], [0.5, [2, 0, 0, 2]], [-0.008333333333333333, [1, 0, 0, 0, 5]], [0.5, [2, 0, 0, 1]], [-0.16666666666666666, [1, 0, 0, 0, 3]], [0.5, [2]]]\n"
     ]
    }
   ],
   "source": [
    "print(VP)"
   ]
  },
  {
   "cell_type": "code",
   "execution_count": 279,
   "metadata": {},
   "outputs": [
    {
     "name": "stdout",
     "output_type": "stream",
     "text": [
      "[[0, [0]], [-2.0, [0, 0, 0, 0, 1]], [1.0, [1, 0, 0, 9]], [-8.22063524662433e-18, [0, 0, 0, 0, 19]], [1.0, [1, 0, 0, 8]], [-2.8114572543455206e-15, [0, 0, 0, 0, 17]], [1.0, [1, 0, 0, 7]], [-7.647163731819816e-13, [0, 0, 0, 0, 15]], [1.0, [1, 0, 0, 6]], [-1.6059043836821613e-10, [0, 0, 0, 0, 13]], [1.0, [1, 0, 0, 5]], [-2.505210838544172e-08, [0, 0, 0, 0, 11]], [1.0, [1, 0, 0, 4]], [-2.7557319223985893e-06, [0, 0, 0, 0, 9]], [1.0, [1, 0, 0, 3]], [-0.0001984126984126984, [0, 0, 0, 0, 7]], [1.0, [1, 0, 0, 2]], [-0.008333333333333333, [0, 0, 0, 0, 5]], [1.0, [1, 0, 0, 1]], [-0.16666666666666666, [0, 0, 0, 0, 3]], [1.0, [1]]]\n"
     ]
    }
   ],
   "source": [
    "VP_=diff(VP,0)\n",
    "print(VP_)\n"
   ]
  },
  {
   "cell_type": "code",
   "execution_count": 280,
   "metadata": {},
   "outputs": [
    {
     "name": "stdout",
     "output_type": "stream",
     "text": [
      "[[0.16666666666666666, [0, 0, 0, 0, 3, 0, 0, 0, 0, 0, 0, 0, 1]], [0.5, [0, 0, 0, 0, 2, 0, 0, 0, 0, 0, 0, 1]], [0.5, [0, 0, 0, 0, 1]], [0.5, [0]]]\n"
     ]
    }
   ],
   "source": [
    "print(X(1))"
   ]
  },
  {
   "cell_type": "code",
   "execution_count": 284,
   "metadata": {},
   "outputs": [
    {
     "name": "stdout",
     "output_type": "stream",
     "text": [
      "[[1.0, [0]], [-0.16666666666666666, [0, 0, 0, 0, 3]], [1.0, [0, 0, 0, 1]], [-0.008333333333333333, [0, 0, 0, 0, 5]], [1.0, [0, 0, 0, 2]], [-0.0001984126984126984, [0, 0, 0, 0, 7]], [1.0, [0, 0, 0, 3]], [-2.7557319223985893e-06, [0, 0, 0, 0, 9]], [1.0, [0, 0, 0, 4]], [-2.505210838544172e-08, [0, 0, 0, 0, 11]], [1.0, [0, 0, 0, 5]], [-1.6059043836821613e-10, [0, 0, 0, 0, 13]], [1.0, [0, 0, 0, 6]], [-7.647163731819816e-13, [0, 0, 0, 0, 15]], [1.0, [0, 0, 0, 7]], [-2.8114572543455206e-15, [0, 0, 0, 0, 17]], [1.0, [0, 0, 0, 8]], [-8.22063524662433e-18, [0, 0, 0, 0, 19]], [1.0, [0, 0, 0, 9]], [-2.0, [0, 0, 0, 0, 1]]]\n"
     ]
    }
   ],
   "source": [
    "#assuming unit inductance(L)\n",
    "VP_c=compose(VP_,0,X(0))\n",
    "VP_c= trim(VP_c)\n",
    "VP_c= [v_ for v_ in VP_c if v_[0] is not 0.0]\n",
    "print(VP_c)"
   ]
  },
  {
   "cell_type": "code",
   "execution_count": 285,
   "metadata": {},
   "outputs": [
    {
     "name": "stdout",
     "output_type": "stream",
     "text": [
      "[[1.0, [0]], [1.0, [0, 0, 0, 9]], [1.0, [0, 0, 0, 8]], [1.0, [0, 0, 0, 7]], [1.0, [0, 0, 0, 6]], [1.0, [0, 0, 0, 5]], [1.0, [0, 0, 0, 4]], [1.0, [0, 0, 0, 3]], [1.0, [0, 0, 0, 2]], [1.0, [0, 0, 0, 1]]]\n",
      "[[1.0, [0, 0, 0, 0, 0]], [1.0, [0, 0, 0, 0]], [1.0, [0, 0, 0, 1]], [1.0, [0, 0, 0, 0]], [1.0, [0, 0, 0, 2]], [1.0, [0, 0, 0, 0]], [1.0, [0, 0, 0, 3]], [1.0, [0, 0, 0, 0]], [1.0, [0, 0, 0, 4]], [1.0, [0, 0, 0, 0]], [1.0, [0, 0, 0, 5]], [1.0, [0, 0, 0, 0]], [1.0, [0, 0, 0, 6]], [1.0, [0, 0, 0, 0]], [1.0, [0, 0, 0, 7]], [1.0, [0, 0, 0, 0]], [1.0, [0, 0, 0, 8]], [1.0, [0, 0, 0, 0]], [1.0, [0, 0, 0, 9]], [1.0, [0]]]\n",
      "[[11.0, [0]], [1.0, [0, 0, 0, 9]], [1.0, [0, 0, 0, 8]], [1.0, [0, 0, 0, 7]], [1.0, [0, 0, 0, 6]], [1.0, [0, 0, 0, 5]], [1.0, [0, 0, 0, 4]], [1.0, [0, 0, 0, 3]], [1.0, [0, 0, 0, 2]], [1.0, [0, 0, 0, 1]]]\n",
      "[[1.0, [0, 0, 0, 0, 0]], [2.0, [0, 0, 0, 0]], [1.0, [0, 0, 0, 1]], [3.0, [0, 0, 0, 0]], [1.0, [0, 0, 0, 2]], [4.0, [0, 0, 0, 0]], [1.0, [0, 0, 0, 3]], [5.0, [0, 0, 0, 0]], [1.0, [0, 0, 0, 4]], [6.0, [0, 0, 0, 0]], [1.0, [0, 0, 0, 5]], [7.0, [0, 0, 0, 0]], [1.0, [0, 0, 0, 6]], [8.0, [0, 0, 0, 0]], [1.0, [0, 0, 0, 7]], [9.0, [0, 0, 0, 0]], [1.0, [0, 0, 0, 8]], [10.0, [0, 0, 0, 0]], [1.0, [0, 0, 0, 9]], [11.0, [0]]]\n",
      "[[66.0, [0]], [1.0, [0, 0, 0, 9]], [1.0, [0, 0, 0, 8]], [1.0, [0, 0, 0, 7]], [1.0, [0, 0, 0, 6]], [1.0, [0, 0, 0, 5]], [1.0, [0, 0, 0, 4]], [1.0, [0, 0, 0, 3]], [1.0, [0, 0, 0, 2]], [1.0, [0, 0, 0, 1]]]\n",
      "[[1.0, [0, 0, 0, 0, 0]], [3.0, [0, 0, 0, 0]], [1.0, [0, 0, 0, 1]], [6.0, [0, 0, 0, 0]], [1.0, [0, 0, 0, 2]], [10.0, [0, 0, 0, 0]], [1.0, [0, 0, 0, 3]], [15.0, [0, 0, 0, 0]], [1.0, [0, 0, 0, 4]], [21.0, [0, 0, 0, 0]], [1.0, [0, 0, 0, 5]], [28.0, [0, 0, 0, 0]], [1.0, [0, 0, 0, 6]], [36.0, [0, 0, 0, 0]], [1.0, [0, 0, 0, 7]], [45.0, [0, 0, 0, 0]], [1.0, [0, 0, 0, 8]], [55.0, [0, 0, 0, 0]], [1.0, [0, 0, 0, 9]], [66.0, [0]]]\n",
      "[[286.0, [0]], [1.0, [0, 0, 0, 9]], [1.0, [0, 0, 0, 8]], [1.0, [0, 0, 0, 7]], [1.0, [0, 0, 0, 6]], [1.0, [0, 0, 0, 5]], [1.0, [0, 0, 0, 4]], [1.0, [0, 0, 0, 3]], [1.0, [0, 0, 0, 2]], [1.0, [0, 0, 0, 1]]]\n",
      "[[1.0, [0, 0, 0, 0, 0]], [4.0, [0, 0, 0, 0]], [1.0, [0, 0, 0, 1]], [10.0, [0, 0, 0, 0]], [1.0, [0, 0, 0, 2]], [20.0, [0, 0, 0, 0]], [1.0, [0, 0, 0, 3]], [35.0, [0, 0, 0, 0]], [1.0, [0, 0, 0, 4]], [56.0, [0, 0, 0, 0]], [1.0, [0, 0, 0, 5]], [84.0, [0, 0, 0, 0]], [1.0, [0, 0, 0, 6]], [120.0, [0, 0, 0, 0]], [1.0, [0, 0, 0, 7]], [165.0, [0, 0, 0, 0]], [1.0, [0, 0, 0, 8]], [220.0, [0, 0, 0, 0]], [1.0, [0, 0, 0, 9]], [286.0, [0]]]\n"
     ]
    }
   ],
   "source": [
    "cpy=VP_c\n",
    "for i in range(prec):\n",
    "    temp=[v_ for v_ in sub(cpy,4,0) if v_[0] is not 0.0]\n",
    "    print(temp)\n",
    "    print(cpy)\n",
    "    #cpy=[v_ for v_ in diff(cpy,4) if v_[0] is not 0.0]\n",
    "    \n",
    "    "
   ]
  },
  {
   "cell_type": "code",
   "execution_count": 283,
   "metadata": {},
   "outputs": [
    {
     "name": "stdout",
     "output_type": "stream",
     "text": [
      "[[0.5, [0]]]\n",
      "[[0.5, [0]]]\n",
      "[[1, [0, 0, 0, 0, 0, 0, 0, 1]]]\n",
      "[[1, [0, 0, 0, 0, 0, 0, 0, 0, 1]]]\n"
     ]
    }
   ],
   "source": [
    "for i in range(prec):\n",
    "    print M[0][i]"
   ]
  },
  {
   "cell_type": "code",
   "execution_count": null,
   "metadata": {},
   "outputs": [],
   "source": []
  },
  {
   "cell_type": "code",
   "execution_count": null,
   "metadata": {},
   "outputs": [],
   "source": []
  },
  {
   "cell_type": "code",
   "execution_count": null,
   "metadata": {},
   "outputs": [],
   "source": []
  },
  {
   "cell_type": "code",
   "execution_count": null,
   "metadata": {},
   "outputs": [],
   "source": []
  }
 ],
 "metadata": {
  "kernelspec": {
   "display_name": "Python 3",
   "language": "python",
   "name": "python3"
  },
  "language_info": {
   "codemirror_mode": {
    "name": "ipython",
    "version": 2
   },
   "file_extension": ".py",
   "mimetype": "text/x-python",
   "name": "python",
   "nbconvert_exporter": "python",
   "pygments_lexer": "ipython2",
   "version": "2.7.15rc1"
  }
 },
 "nbformat": 4,
 "nbformat_minor": 2
}
