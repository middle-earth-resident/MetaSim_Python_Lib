{
 "cells": [
  {
   "cell_type": "markdown",
   "metadata": {},
   "source": [
    "[13-3-2019] 20:47- The below definition has a bug- when it compares two \"signatures\" it will treat identical signatures with different number of trailing zeroes as different. Maybe just change \"eq()\" defn above.\n",
    "[17-3-2019] 19:14- Already done below, forgot to write that down."
   ]
  },
  {
   "cell_type": "code",
   "execution_count": 22,
   "metadata": {},
   "outputs": [],
   "source": [
    "def eq( L1, L2 ):\n",
    "    e= 1\n",
    "    \n",
    "    if max( len(L1), len(L2) ) is len(L1):\n",
    "        M= L1\n",
    "        m= L2\n",
    "    else:\n",
    "        M= L2\n",
    "        m= L1\n",
    "    \n",
    "    #Padding:\n",
    "    for i in range( len(M) ):\n",
    "        if i >= len(m):\n",
    "            m.append(0)\n",
    "    #Comparing:\n",
    "    for i in range( len(L1) ):\n",
    "        if L1[i] is not L2[i]:\n",
    "            e= 0\n",
    "    \n",
    "    return e"
   ]
  },
  {
   "cell_type": "code",
   "execution_count": 23,
   "metadata": {},
   "outputs": [
    {
     "data": {
      "text/plain": [
       "1"
      ]
     },
     "execution_count": 23,
     "metadata": {},
     "output_type": "execute_result"
    }
   ],
   "source": [
    "eq( [1,2,1] , [1,2,1,0,0] ) "
   ]
  },
  {
   "cell_type": "code",
   "execution_count": 24,
   "metadata": {},
   "outputs": [],
   "source": [
    "def trim(P):\n",
    "    for j in range(len(P[1])):\n",
    "        while len(P[1])-1-j is not 0:\n",
    "            if P[1][len(P[1])-1-j] is 0:\n",
    "                del P[1][len(P[1])-1-j:len(P[1])-1-j]\n",
    "                \n",
    "    return P"
   ]
  },
  {
   "cell_type": "code",
   "execution_count": null,
   "metadata": {},
   "outputs": [],
   "source": [
    "trim([1,[2,0,2,0,0,0,0,0,0]])"
   ]
  },
  {
   "cell_type": "code",
   "execution_count": null,
   "metadata": {},
   "outputs": [],
   "source": [
    "def sum( P, Q ):\n",
    "    Q_= Q\n",
    "    for p in P:\n",
    "        f= 0\n",
    "        for q in Q_:\n",
    "            if eq(p[1],q[1]) is 1:\n",
    "                q[0]= q[0] + p[0]\n",
    "                f= 1\n",
    "        if f is 0:\n",
    "            Q_.append(p)\n",
    "        \n",
    "    return Q_"
   ]
  },
  {
   "cell_type": "code",
   "execution_count": null,
   "metadata": {},
   "outputs": [],
   "source": [
    "P= [ [1.1 , [1,2]] , [1.2 , [2,2]] , [9.9 , [1,0,1]] ]\n",
    "Q= [ [2.1 , [2,2]] , [1.2 , [1,2]] , [9.9 , [9,9]] , [1.0 , [1,0,1]] ]"
   ]
  },
  {
   "cell_type": "code",
   "execution_count": null,
   "metadata": {},
   "outputs": [],
   "source": [
    "sum(P,Q)"
   ]
  },
  {
   "cell_type": "code",
   "execution_count": null,
   "metadata": {},
   "outputs": [],
   "source": [
    "def bitvor( L1, L2 ):\n",
    "    Res= []\n",
    "    if max( len(L1), len(L2) ) is len(L1):\n",
    "        M= L1\n",
    "        m= L2\n",
    "    else:\n",
    "        M= L2\n",
    "        m= L1\n",
    "    \n",
    "    for i in range( len(M) ):\n",
    "        if i < len(m):\n",
    "            Res.append( m[i] + M[i] )\n",
    "        else:\n",
    "            Res.append(M[i])\n",
    "    \n",
    "    return Res"
   ]
  },
  {
   "cell_type": "code",
   "execution_count": null,
   "metadata": {},
   "outputs": [],
   "source": [
    "bitvor([1,2,3,2],[1,1,1,1,2,3,2,1])"
   ]
  },
  {
   "cell_type": "code",
   "execution_count": null,
   "metadata": {},
   "outputs": [],
   "source": [
    "sum( [] , [1 , [1,2]] )"
   ]
  },
  {
   "cell_type": "code",
   "execution_count": null,
   "metadata": {},
   "outputs": [],
   "source": [
    "def prod( P, Q ):\n",
    "    Res= []\n",
    "    \n",
    "    for p in P:\n",
    "        for q in Q:\n",
    "            mprod= []\n",
    "            mprod.append( p[0]*q[0] )\n",
    "            mprod.append( bitvor( p[1], q[1] ) )\n",
    "            MP= []\n",
    "            MP.append(mprod)\n",
    "            Res= sum( Res, MP )\n",
    "    \n",
    "    return Res"
   ]
  },
  {
   "cell_type": "code",
   "execution_count": null,
   "metadata": {},
   "outputs": [],
   "source": [
    "prod(P,Q)"
   ]
  },
  {
   "cell_type": "code",
   "execution_count": null,
   "metadata": {},
   "outputs": [],
   "source": [
    "P= [ [1 , [1]] , [1 , [0]] ]\n",
    "Q= [ [1 , [2,1]] , [1 , [0]] ]"
   ]
  },
  {
   "cell_type": "code",
   "execution_count": null,
   "metadata": {},
   "outputs": [],
   "source": [
    "def sub( P, i, x ):\n",
    "    S= []\n",
    "    for p_ in P:\n",
    "        p= p_\n",
    "        r= []\n",
    "        r.append(p)\n",
    "        if len( p[1] ) > i:\n",
    "            p[0]= p[0]*( x**p[1][i] )\n",
    "            p[1][i]= 0\n",
    "            \n",
    "            S= sum( S, r )\n",
    "        else:\n",
    "            S= sum( S, r )\n",
    "    \n",
    "    return S"
   ]
  },
  {
   "cell_type": "code",
   "execution_count": null,
   "metadata": {},
   "outputs": [],
   "source": [
    "sub(Q,1,1.5)"
   ]
  },
  {
   "cell_type": "code",
   "execution_count": null,
   "metadata": {},
   "outputs": [],
   "source": [
    "def diff( P, i ):\n",
    "    P_= P\n",
    "    \n",
    "    for p in P_:\n",
    "        if p[1][i] is not 0:\n",
    "            p[0]= p[0]*p[1][i]\n",
    "            p[1][i]= p[1][i] - 1\n",
    "    \n",
    "    return P_"
   ]
  },
  {
   "cell_type": "code",
   "execution_count": null,
   "metadata": {},
   "outputs": [],
   "source": [
    "R= [ [2 , [2,1]] , [3 , [1,2]] ]"
   ]
  },
  {
   "cell_type": "code",
   "execution_count": null,
   "metadata": {},
   "outputs": [],
   "source": [
    "diff(R,0)"
   ]
  },
  {
   "cell_type": "code",
   "execution_count": null,
   "metadata": {},
   "outputs": [],
   "source": [
    "def pw( P, n ):\n",
    "    Res= P\n",
    "    \n",
    "    if n is 0:\n",
    "        return [[1,[0]]]\n",
    "    if n >=1:\n",
    "        for i in range(n-1):\n",
    "            Res= prod( Res, P )\n",
    "    \n",
    "    return Res"
   ]
  },
  {
   "cell_type": "code",
   "execution_count": null,
   "metadata": {},
   "outputs": [],
   "source": [
    "pw( [[1 , [1]] , [1 , [0]] ] , 3 )"
   ]
  },
  {
   "cell_type": "code",
   "execution_count": null,
   "metadata": {},
   "outputs": [],
   "source": [
    "pw( [[1 , [1]] , [1 , [0]] ] , 0 )"
   ]
  },
  {
   "cell_type": "markdown",
   "metadata": {},
   "source": [
    "Since I don't have time to fix the power zero problem, I'll just add the zero special case above."
   ]
  },
  {
   "cell_type": "code",
   "execution_count": null,
   "metadata": {},
   "outputs": [],
   "source": [
    "#Find V in terms of t, a[i], beta\n",
    "\n",
    "def vcomp( V, x ):\n",
    "    #x0= x, x1= t, x2= beta, xi= ai for i >2\n",
    "    V_= V\n",
    "    x_= x\n",
    "    \n",
    "    M= []\n",
    "    \n",
    "    for v in V_:\n",
    "        v_= v\n",
    "        m= pw( x_, v_[1][0] )\n",
    "        v_[1][0]= 0\n",
    "        \n",
    "        vl=[]\n",
    "        vl.append(v_)\n",
    "        m= prod( m, vl )\n",
    "        \n",
    "        M= sum( M, m )\n",
    "    \n",
    "    return M"
   ]
  },
  {
   "cell_type": "code",
   "execution_count": null,
   "metadata": {},
   "outputs": [],
   "source": [
    "vsmp= [ [1 , [1,0,1]] , [2 , [2,0]] ]\n",
    "xsmp= [ [1 , [0,0,0]] , [1 , [0,1,0,1]] , [1 , [0,2,0,0,1]] , [1 , [0,3,0,0,0,1]] ]"
   ]
  },
  {
   "cell_type": "code",
   "execution_count": null,
   "metadata": {},
   "outputs": [],
   "source": [
    "vcomp(vsmp,xsmp)"
   ]
  },
  {
   "cell_type": "code",
   "execution_count": null,
   "metadata": {},
   "outputs": [],
   "source": [
    "def print_rec_rel( V, x ):\n",
    "    \n",
    "    V_= diff( V, 0 )\n",
    "    x= diff( diff(x,1), 1 )\n",
    "    V_= vcomp(V_,x)\n",
    "    \n",
    "    \n",
    "    for i in range(10):\n",
    "        res= []\n",
    "        tmp= []\n",
    "        tmp= [c for c in V if c[1][1] is i]\n",
    "        res= sum( res, tmp )\n",
    "        print(res)"
   ]
  },
  {
   "cell_type": "code",
   "execution_count": null,
   "metadata": {},
   "outputs": [],
   "source": [
    "print_rec_rel( vsmp, xsmp )"
   ]
  },
  {
   "cell_type": "code",
   "execution_count": null,
   "metadata": {},
   "outputs": [],
   "source": [
    "def compose( P, i ,Q ):\n",
    "    #Make copies so as not to disturb the original parameters\n",
    "    P_= P\n",
    "    Q_= Q\n",
    "    \n",
    "    #Initilise sum\n",
    "    S= []\n",
    "    \n",
    "    for p in P_:\n",
    "        q1=[]\n",
    "        q2=p\n",
    "        q= [] #Will hold the temporary result of substitution of Q in place of -{x_{i}_}- in one monomial of P\n",
    "        q= pw( Q_, p[1][i] )\n",
    "        q2[1][i]= 0\n",
    "        \n",
    "        r= []\n",
    "        r.append(q2)\n",
    "        q1= prod(q,r)\n",
    "        \n",
    "        S= sum(S,q1)\n",
    "        \n",
    "    return S"
   ]
  },
  {
   "cell_type": "code",
   "execution_count": null,
   "metadata": {},
   "outputs": [],
   "source": [
    "P= [[1 , [1,1]] , [2 , [0,2]]]\n",
    "Q= [[1 , [0,0,1]],[1,[1,0,0]]]"
   ]
  },
  {
   "cell_type": "code",
   "execution_count": null,
   "metadata": {},
   "outputs": [],
   "source": [
    "compose( P, 0, Q )"
   ]
  },
  {
   "cell_type": "code",
   "execution_count": null,
   "metadata": {},
   "outputs": [],
   "source": [
    "no_of_coordinates= 3\n",
    "no_controls= 1\n",
    "prec= 4#No of terms in time series\n",
    "\n",
    "CF= [None]*no_of_coordinates*prec"
   ]
  },
  {
   "cell_type": "code",
   "execution_count": null,
   "metadata": {},
   "outputs": [],
   "source": [
    "#1.#ABANDONED\n",
    "#Initialise -{B_{ij}_}- 's\n",
    "\n",
    "def Bij_pow( i, j ):\n",
    "    L= []\n",
    "    pos= i*no_of_coordinates + j + no_of_coordinates + no_controls\n",
    "    for i in range(pos+1):\n",
    "        L.append(0)\n",
    "    L.append(1)\n",
    "    return L\n",
    "\n",
    "def init_Bij():\n",
    "    for i in range(no_of_coordinates):\n",
    "        for j in range(prec):\n",
    "            cf= []\n",
    "            cf.append(1)\n",
    "            cf.append(Bij_pow(i,j))\n",
    "            CF.append(cf)"
   ]
  },
  {
   "cell_type": "code",
   "execution_count": null,
   "metadata": {},
   "outputs": [],
   "source": [
    "init_Bij()"
   ]
  },
  {
   "cell_type": "code",
   "execution_count": null,
   "metadata": {},
   "outputs": [],
   "source": [
    "CF"
   ]
  },
  {
   "cell_type": "markdown",
   "metadata": {},
   "source": [
    "Trying again."
   ]
  },
  {
   "cell_type": "code",
   "execution_count": null,
   "metadata": {},
   "outputs": [],
   "source": [
    "#Modified version of B[i][j] with arbitrary initial conditions\n",
    "#1 a\n",
    "# Bij's are polynomials. Each of them has the form 1xBij= 1x-{x}-indexed by no_of_coordinates+no_controls+i*no_of_coordinates+j\n",
    "def B( i, j ):\n",
    "    pos= no_of_coordinates + 1 + no_controls  + i*prec + j\n",
    "    c= [1]\n",
    "    d= []\n",
    "\n",
    "    \n",
    "    \n",
    "    \n",
    "    #Add initial values of Bi0 and Bi1 with if statements\n",
    "    for i in range(pos):\n",
    "        d.append(0)\n",
    "    d.append(1)\n",
    "    c.append(d)\n",
    "    #print(c)\n",
    "    \n",
    "    C=[]\n",
    "    C.append(c)\n",
    "\n",
    "    return C"
   ]
  },
  {
   "cell_type": "code",
   "execution_count": null,
   "metadata": {},
   "outputs": [],
   "source": [
    "M=[]\n",
    "for i in range(no_of_coordinates):\n",
    "    m=[]\n",
    "    for j in range(prec):\n",
    "        m.append(B(i,j))\n",
    "    M.append(m)\n",
    "    "
   ]
  },
  {
   "cell_type": "code",
   "execution_count": null,
   "metadata": {},
   "outputs": [],
   "source": [
    "print(M[1][3])\n",
    "print(B(1,3))"
   ]
  },
  {
   "cell_type": "code",
   "execution_count": null,
   "metadata": {},
   "outputs": [],
   "source": [
    "#initial conditions\n",
    "for i in range(no_of_coordinates):\n",
    "    for j in range(prec):\n",
    "        if j is 0 or j is 1:\n",
    "            M[i][j]=[[0.5,[0]]]\n"
   ]
  },
  {
   "cell_type": "code",
   "execution_count": null,
   "metadata": {},
   "outputs": [],
   "source": [
    "#3\n",
    "#initializing x for all coordinates as time series \n",
    "def X(i):\n",
    "    j=0\n",
    "    S=[]\n",
    "    \n",
    "    \n",
    "    for j in range(prec):\n",
    "        #defining t^j\n",
    "        Tj=[1,[0,0]]\n",
    "        for k in range(no_of_coordinates-1):\n",
    "            Tj[1].append(0)\n",
    "        Tj[1].append(j)\n",
    "        #print(Tj)\n",
    "        T=[]\n",
    "        T.append(Tj)\n",
    "        mono=prod(M[i][j],T)\n",
    "        \n",
    "        S=sum(S,mono)\n",
    "        \n",
    "        \n",
    "    return S\n"
   ]
  },
  {
   "cell_type": "code",
   "execution_count": null,
   "metadata": {},
   "outputs": [],
   "source": [
    "X(2)\n"
   ]
  },
  {
   "cell_type": "code",
   "execution_count": null,
   "metadata": {},
   "outputs": [],
   "source": [
    "#composing the coordinate polynomial with that of the potential\n",
    "Vpot=[[1,[2,3,1]],[4,[1,1,4]]]\n",
    "#Vpot=compose(Vpot,2,X(2))\n",
    "#Vpot1=compose(Vpot,2,X(2))\n",
    "#Vpot2=compose(Vpot1,1,X(1))"
   ]
  },
  {
   "cell_type": "code",
   "execution_count": null,
   "metadata": {},
   "outputs": [],
   "source": [
    "#for j in [x+2 for x in range(prec)]:\n",
    "   # for i in range(no_of_coordinates):\n",
    "V_=diff(Vpot,1)\n",
    "        #M[i][j]= [term for term in Vcom if term[1][4] is j-2][0]"
   ]
  },
  {
   "cell_type": "code",
   "execution_count": null,
   "metadata": {},
   "outputs": [],
   "source": [
    "V_\n"
   ]
  },
  {
   "cell_type": "code",
   "execution_count": null,
   "metadata": {},
   "outputs": [],
   "source": [
    "x_=diff(diff(X(1),4),4)\n",
    "        \n",
    "#for k in range(no_of_coordinates):\n"
   ]
  },
  {
   "cell_type": "code",
   "execution_count": null,
   "metadata": {
    "scrolled": true
   },
   "outputs": [],
   "source": [
    "x_\n"
   ]
  },
  {
   "cell_type": "code",
   "execution_count": null,
   "metadata": {},
   "outputs": [],
   "source": [
    "Vcom=compose(V_,2,X(2))\n",
    "print(Vcom)\n"
   ]
  },
  {
   "cell_type": "code",
   "execution_count": null,
   "metadata": {},
   "outputs": [],
   "source": []
  },
  {
   "cell_type": "code",
   "execution_count": null,
   "metadata": {},
   "outputs": [],
   "source": []
  }
 ],
 "metadata": {
  "kernelspec": {
   "display_name": "Python 3",
   "language": "python",
   "name": "python3"
  },
  "language_info": {
   "codemirror_mode": {
    "name": "ipython",
    "version": 2
   },
   "file_extension": ".py",
   "mimetype": "text/x-python",
   "name": "python",
   "nbconvert_exporter": "python",
   "pygments_lexer": "ipython2",
   "version": "2.7.15rc1"
  }
 },
 "nbformat": 4,
 "nbformat_minor": 2
}
